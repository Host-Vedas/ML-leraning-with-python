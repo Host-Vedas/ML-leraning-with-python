{
 "cells": [
  {
   "cell_type": "code",
   "execution_count": 1,
   "metadata": {},
   "outputs": [],
   "source": [
    "class Fraction:\n",
    "    # parametrized constructor\n",
    "    def __init__(self,x,y):\n",
    "        self.num = x\n",
    "        self.den = y\n",
    "\n",
    "# Whatever you want to print is inside magic function __str__\n",
    "    def __str__(self):\n",
    "        return '{}/{}'.format(self.num,self.den)\n",
    "    \n",
    "    def __add__(obj1,obj2):\n",
    "        new_num = obj1.num * obj2.den + obj2.num * obj1.den\n",
    "        new_den = obj1.den + obj2.den\n",
    "        return '{}/{}'.format(new_num,new_den)\n",
    "    def __sub__(obj1,obj2):\n",
    "        new_num = obj1.num * obj2.den - obj2.num * obj1.den\n",
    "        new_den = obj1.den + obj2.den\n",
    "        return '{}/{}'.format(new_num,new_den)\n",
    "    def __mul__(obj1,obj2):\n",
    "        new_num = obj1.num  * obj2.num \n",
    "        new_den = obj1.den * obj2.den\n",
    "        return '{}/{}'.format(new_num,new_den)\n",
    "    def __truediv__(obj1,obj2):\n",
    "        new_num = obj1.num  * obj2.den \n",
    "        new_den = obj1.den * obj2.num\n",
    "        return '{}/{}'.format(new_num,new_den)"
   ]
  },
  {
   "cell_type": "code",
   "execution_count": 4,
   "metadata": {},
   "outputs": [
    {
     "name": "stdout",
     "output_type": "stream",
     "text": [
      "18/6\n"
     ]
    }
   ],
   "source": [
    "obj1 = Fraction(3,2)\n",
    "obj2 = Fraction(3,4)\n",
    "print(obj1+obj2)"
   ]
  },
  {
   "cell_type": "code",
   "execution_count": null,
   "metadata": {},
   "outputs": [],
   "source": []
  }
 ],
 "metadata": {
  "kernelspec": {
   "display_name": "Python 3",
   "language": "python",
   "name": "python3"
  },
  "language_info": {
   "codemirror_mode": {
    "name": "ipython",
    "version": 3
   },
   "file_extension": ".py",
   "mimetype": "text/x-python",
   "name": "python",
   "nbconvert_exporter": "python",
   "pygments_lexer": "ipython3",
   "version": "3.11.3"
  }
 },
 "nbformat": 4,
 "nbformat_minor": 2
}
